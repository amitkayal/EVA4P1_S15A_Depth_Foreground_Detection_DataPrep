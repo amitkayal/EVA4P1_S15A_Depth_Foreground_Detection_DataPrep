{
  "nbformat": 4,
  "nbformat_minor": 0,
  "metadata": {
    "colab": {
      "name": "EVA4P1_S15_OpenCV_FG_Identification_V1.ipynb",
      "provenance": [],
      "collapsed_sections": [],
      "authorship_tag": "ABX9TyNYFiswFHzAJVqM/4y7PurS",
      "include_colab_link": true
    },
    "kernelspec": {
      "name": "python3",
      "display_name": "Python 3"
    },
    "accelerator": "GPU"
  },
  "cells": [
    {
      "cell_type": "markdown",
      "metadata": {
        "id": "view-in-github",
        "colab_type": "text"
      },
      "source": [
        "<a href=\"https://colab.research.google.com/github/anilbhatt1/EVA4P1_S15A_Depth_FG_Detection_DataPrep/blob/master/EVA4P1_S15_OpenCV_FG_Identification_V1.ipynb\" target=\"_parent\"><img src=\"https://colab.research.google.com/assets/colab-badge.svg\" alt=\"Open In Colab\"/></a>"
      ]
    },
    {
      "cell_type": "code",
      "metadata": {
        "id": "oQzpWRgA61L_",
        "colab_type": "code",
        "outputId": "5a771440-baa6-4755-a283-75c95aeab477",
        "colab": {
          "base_uri": "https://localhost:8080/",
          "height": 312
        }
      },
      "source": [
        "! nvidia-smi"
      ],
      "execution_count": 1,
      "outputs": [
        {
          "output_type": "stream",
          "text": [
            "Fri May 15 10:23:01 2020       \n",
            "+-----------------------------------------------------------------------------+\n",
            "| NVIDIA-SMI 440.82       Driver Version: 418.67       CUDA Version: 10.1     |\n",
            "|-------------------------------+----------------------+----------------------+\n",
            "| GPU  Name        Persistence-M| Bus-Id        Disp.A | Volatile Uncorr. ECC |\n",
            "| Fan  Temp  Perf  Pwr:Usage/Cap|         Memory-Usage | GPU-Util  Compute M. |\n",
            "|===============================+======================+======================|\n",
            "|   0  Tesla K80           Off  | 00000000:00:04.0 Off |                    0 |\n",
            "| N/A   37C    P8    28W / 149W |      0MiB / 11441MiB |      0%      Default |\n",
            "+-------------------------------+----------------------+----------------------+\n",
            "                                                                               \n",
            "+-----------------------------------------------------------------------------+\n",
            "| Processes:                                                       GPU Memory |\n",
            "|  GPU       PID   Type   Process name                             Usage      |\n",
            "|=============================================================================|\n",
            "|  No running processes found                                                 |\n",
            "+-----------------------------------------------------------------------------+\n"
          ],
          "name": "stdout"
        }
      ]
    },
    {
      "cell_type": "code",
      "metadata": {
        "id": "nQVOBnFy68i8",
        "colab_type": "code",
        "colab": {
          "base_uri": "https://localhost:8080/",
          "height": 35
        },
        "outputId": "c9d63627-43bf-47fe-ad2d-6c10df6bf421"
      },
      "source": [
        "from google.colab import drive\n",
        "drive.mount('/content/gdrive')"
      ],
      "execution_count": 12,
      "outputs": [
        {
          "output_type": "stream",
          "text": [
            "Drive already mounted at /content/gdrive; to attempt to forcibly remount, call drive.mount(\"/content/gdrive\", force_remount=True).\n"
          ],
          "name": "stdout"
        }
      ]
    },
    {
      "cell_type": "code",
      "metadata": {
        "id": "OX-u1mU120yA",
        "colab_type": "code",
        "colab": {
          "base_uri": "https://localhost:8080/",
          "height": 72
        },
        "outputId": "18837851-3598-48b0-9658-dcf9cde87a82"
      },
      "source": [
        "import os\n",
        "import glob\n",
        "import argparse\n",
        "import matplotlib\n",
        "from zipfile import ZipFile\n",
        "import zipfile\n",
        "import numpy as np\n",
        "import matplotlib.pyplot as plt\n",
        "import seaborn as sns\n",
        "from PIL import Image\n",
        "import io\n",
        "import skimage\n",
        "from skimage.transform import resize\n",
        "from itertools import groupby\n",
        "import cv2\n",
        "from tqdm.auto import tqdm\n",
        "from pathlib import Path\n",
        "from time import time\n",
        "from datetime import datetime \n",
        "import gc\n",
        "sns.set()\n",
        "from numpy import asarray"
      ],
      "execution_count": 3,
      "outputs": [
        {
          "output_type": "stream",
          "text": [
            "/usr/local/lib/python3.6/dist-packages/statsmodels/tools/_testing.py:19: FutureWarning: pandas.util.testing is deprecated. Use the functions in the public API at pandas.testing instead.\n",
            "  import pandas.util.testing as tm\n"
          ],
          "name": "stderr"
        }
      ]
    },
    {
      "cell_type": "code",
      "metadata": {
        "id": "tA_Pj3FR3GF2",
        "colab_type": "code",
        "colab": {
          "base_uri": "https://localhost:8080/",
          "height": 69
        },
        "outputId": "eb183fca-bda2-4031-9633-4085bbcf8000"
      },
      "source": [
        "log_fg_bg = open('/content/gdrive/My Drive/FG_BG_Filename_Logs.txt',\"r\")\n",
        "content_list = log_fg_bg.readlines()\n",
        "print('No: of records in log_fg_bg:',len(content_list))\n",
        "print(content_list[0])\n",
        "log_fg_bg.close()"
      ],
      "execution_count": 79,
      "outputs": [
        {
          "output_type": "stream",
          "text": [
            "No: of records in log_fg_bg: 400000\n",
            "Img_fg_bg_1.jpg,Img21.jpg,Image41.png,(192, 192, 108, 156, 51, 3, 159, 3, 51, 159, 159, 159)\n",
            "\n"
          ],
          "name": "stdout"
        }
      ]
    },
    {
      "cell_type": "code",
      "metadata": {
        "id": "xTCZzKnq3c41",
        "colab_type": "code",
        "colab": {
          "base_uri": "https://localhost:8080/",
          "height": 35
        },
        "outputId": "99607694-2a12-48e5-b301-a82c7ce43d5e"
      },
      "source": [
        "random_lst = []\n",
        "for i in range(3): \n",
        "    x = np.random.randint(low=1, high=400000, size=1)[0]\n",
        "    random_lst.append(x)\n",
        "print(random_lst)    "
      ],
      "execution_count": 68,
      "outputs": [
        {
          "output_type": "stream",
          "text": [
            "[310962, 17319, 49735]\n"
          ],
          "name": "stdout"
        }
      ]
    },
    {
      "cell_type": "code",
      "metadata": {
        "id": "9uSFVIUT3raP",
        "colab_type": "code",
        "colab": {
          "base_uri": "https://localhost:8080/",
          "height": 52
        },
        "outputId": "d8827689-c578-4550-d816-aba850b8dcda"
      },
      "source": [
        "FG_BG_depth_zip     =  ZipFile(\"/content/gdrive/My Drive/FG_BG_Depth_400K.zip\", 'r')\n",
        "FG_BG_depth_zip_files = [info.filename for info in FG_BG_zip.infolist() if not info.is_dir()]\n",
        "print('len(FG_BG_depth_zip_files)',len(FG_BG_depth_zip_files))\n",
        "print(FG_BG_depth_zip_files[0])"
      ],
      "execution_count": 73,
      "outputs": [
        {
          "output_type": "stream",
          "text": [
            "len(FG_BG_depth_zip_files) 400000\n",
            "FG_BG_Depth_0_400K/Img_fg_bg_214327_depth.jpg\n"
          ],
          "name": "stdout"
        }
      ]
    },
    {
      "cell_type": "code",
      "metadata": {
        "id": "VkpLJ-YzDy0k",
        "colab_type": "code",
        "colab": {}
      },
      "source": [
        "path_bg_depth = '/content/gdrive/My Drive/BG_BGFlip_Depth/'\n",
        "path_fg_mask  = '/content/sample_data/fg_mask/'"
      ],
      "execution_count": 0,
      "outputs": []
    },
    {
      "cell_type": "code",
      "metadata": {
        "id": "eFi6WRP15BdS",
        "colab_type": "code",
        "colab": {}
      },
      "source": [
        "for i in range(len(random_lst)):\n",
        "    file_id = random_lst[i]\n",
        "    fg_bg_depth_name = 'FG_BG_Depth_0_400K/Img_fg_bg_' + str(file_id) + '_depth.jpg'\n",
        "    imgdata = FG_BG_depth_zip.read(fg_bg_depth_name)\n",
        "    img     = Image.open(io.BytesIO(imgdata))\n",
        "    fg_bg_depth_array = np.array(img)\n",
        "\n",
        "    bg_name = content_list[file_id-1].split(',')[1].split('.')[0]\n",
        "    if file_id % 2 == 0:\n",
        "      bg_depth_name = bg_name + '_flip_depth.jpg'\n",
        "    else:\n",
        "      bg_depth_name = bg_name + '_depth.jpg'  \n",
        "    \n",
        "    img = Image.open(f'{path_bg_depth}{bg_depth_name}')\n",
        "    bg_depth_array = np.array(img)\n",
        "\n",
        "    delta_image = fg_bg_depth_array - bg_depth_array\n",
        "    contour_image = delta_image.copy()\n",
        "    ret, thresh = cv2.threshold(contour_image, 127, 255, 0)\n",
        "    contours, _ = cv2.findContours(thresh,cv2.RETR_TREE,cv2.CHAIN_APPROX_NONE) \n",
        "    out_mask = np.zeros_like(contour_image)\n",
        "    fg_mask = cv2.drawContours(out_mask, contours,-1, 255, cv2.FILLED)\n",
        "    fg_mask_name = 'Img_fg_detect_' + str(file_id) + '.jpg'\n",
        "    cv2.imwrite(f'{path_fg_mask}{fg_mask_name}',fg_mask)"
      ],
      "execution_count": 0,
      "outputs": []
    },
    {
      "cell_type": "markdown",
      "metadata": {
        "id": "4l_O6MbXK9vp",
        "colab_type": "text"
      },
      "source": [
        "### Just for verification Purpose we are displaying - No need to run"
      ]
    },
    {
      "cell_type": "code",
      "metadata": {
        "id": "oiLrHzD_DKum",
        "colab_type": "code",
        "colab": {}
      },
      "source": [
        "FG_BG_zip     =  ZipFile(\"/content/gdrive/My Drive/FG_BG_400K.zip\", 'r')\n",
        "FG_BG_zip_files = [info.filename for info in FG_BG_zip.infolist() if not info.is_dir()]"
      ],
      "execution_count": 0,
      "outputs": []
    },
    {
      "cell_type": "code",
      "metadata": {
        "id": "milEZsAwInky",
        "colab_type": "code",
        "colab": {
          "base_uri": "https://localhost:8080/",
          "height": 35
        },
        "outputId": "875575ff-7b01-493e-aa11-3ff01c693dc5"
      },
      "source": [
        "FG_BG_zip_files[1]"
      ],
      "execution_count": 78,
      "outputs": [
        {
          "output_type": "execute_result",
          "data": {
            "text/plain": [
              "'FG_BG_400K/Img_fg_bg_147436.jpg'"
            ]
          },
          "metadata": {
            "tags": []
          },
          "execution_count": 78
        }
      ]
    },
    {
      "cell_type": "code",
      "metadata": {
        "id": "JszI19lyJEGp",
        "colab_type": "code",
        "colab": {}
      },
      "source": [
        "path_fg_bg    = '/content/sample_data/fg_bg/'"
      ],
      "execution_count": 0,
      "outputs": []
    },
    {
      "cell_type": "code",
      "metadata": {
        "id": "cwJ9xiOoIT2l",
        "colab_type": "code",
        "colab": {}
      },
      "source": [
        "for i in range(len(random_lst)):\n",
        "    file_id    = random_lst[i]\n",
        "    fg_bg_name = 'FG_BG_400K/Img_fg_bg_' + str(file_id) + '.jpg'\n",
        "    imgdata    = FG_BG_zip.read(fg_bg_name)\n",
        "    img        = Image.open(io.BytesIO(imgdata))\n",
        "    fg_bg_save_name = 'Img_fg_bg_' + str(file_id) + '.jpg'\n",
        "    img.save(f'{path_fg_bg}{fg_bg_save_name}') "
      ],
      "execution_count": 0,
      "outputs": []
    },
    {
      "cell_type": "code",
      "metadata": {
        "id": "RugYLOLvJehS",
        "colab_type": "code",
        "colab": {}
      },
      "source": [
        ""
      ],
      "execution_count": 0,
      "outputs": []
    }
  ]
}