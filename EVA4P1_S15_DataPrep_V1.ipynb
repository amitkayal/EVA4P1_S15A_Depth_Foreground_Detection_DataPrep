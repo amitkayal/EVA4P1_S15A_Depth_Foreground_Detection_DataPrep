{
  "nbformat": 4,
  "nbformat_minor": 0,
  "metadata": {
    "colab": {
      "name": "EVA4P1_S15_DataPrep_V1.ipynb",
      "provenance": [],
      "collapsed_sections": [],
      "authorship_tag": "ABX9TyOixvKo8TQF+piQLY5DQGIl",
      "include_colab_link": true
    },
    "kernelspec": {
      "name": "python3",
      "display_name": "Python 3"
    },
    "accelerator": "GPU"
  },
  "cells": [
    {
      "cell_type": "markdown",
      "metadata": {
        "id": "view-in-github",
        "colab_type": "text"
      },
      "source": [
        "<a href=\"https://colab.research.google.com/github/anilbhatt1/EVA4P1_S15_MaskRCNN/blob/master/EVA4P1_S15_DataPrep_V1.ipynb\" target=\"_parent\"><img src=\"https://colab.research.google.com/assets/colab-badge.svg\" alt=\"Open In Colab\"/></a>"
      ]
    },
    {
      "cell_type": "code",
      "metadata": {
        "id": "wMPZ_u0u_ZUp",
        "colab_type": "code",
        "outputId": "4570abf2-8723-4feb-8ad1-e3e430fb415f",
        "colab": {
          "base_uri": "https://localhost:8080/",
          "height": 35
        }
      },
      "source": [
        "from datetime import datetime \n",
        "print(\"Current Date/Time: \", datetime.now())"
      ],
      "execution_count": 47,
      "outputs": [
        {
          "output_type": "stream",
          "text": [
            "Current Date/Time:  2020-05-09 09:29:30.376404\n"
          ],
          "name": "stdout"
        }
      ]
    },
    {
      "cell_type": "code",
      "metadata": {
        "id": "9zpITGyXH3BT",
        "colab_type": "code",
        "outputId": "7d4e5755-0e9e-4c58-f735-7c2a7bb16e95",
        "colab": {
          "base_uri": "https://localhost:8080/",
          "height": 35
        }
      },
      "source": [
        "from google.colab import drive\n",
        "drive.mount('/content/gdrive')"
      ],
      "execution_count": 48,
      "outputs": [
        {
          "output_type": "stream",
          "text": [
            "Drive already mounted at /content/gdrive; to attempt to forcibly remount, call drive.mount(\"/content/gdrive\", force_remount=True).\n"
          ],
          "name": "stdout"
        }
      ]
    },
    {
      "cell_type": "code",
      "metadata": {
        "id": "qGnKPp0cH6-3",
        "colab_type": "code",
        "colab": {}
      },
      "source": [
        "import os\n",
        "import PIL\n",
        "import numpy as np\n",
        "from PIL import Image, ImageOps\n",
        "import zipfile\n",
        "import sys"
      ],
      "execution_count": 0,
      "outputs": []
    },
    {
      "cell_type": "code",
      "metadata": {
        "id": "zt87f4dpVuFI",
        "colab_type": "code",
        "colab": {}
      },
      "source": [
        "'''\n",
        "----------------------------------\n",
        "|    (x_a,y_a)       (x_b,y_b)   |\n",
        "|    *---------------*           |\n",
        "|    |               |           |\n",
        "|    |               |           |\n",
        "|    *---------------*           |\n",
        "|    (x_c,y_c)       (x_d,y_d)   |\n",
        "|                                |\n",
        "----------------------------------\n",
        "'''"
      ],
      "execution_count": 0,
      "outputs": []
    },
    {
      "cell_type": "code",
      "metadata": {
        "id": "rvI07UQzH8y5",
        "colab_type": "code",
        "colab": {}
      },
      "source": [
        "def pos_generator(bg_size,fg_size,positions):\n",
        "    lst  = []\n",
        "    b_width, b_height = bg_size\n",
        "    f_width, f_height = fg_size\n",
        "    max_y = b_height - f_height\n",
        "    max_x = b_width - f_width\n",
        "    for i in range(positions):\n",
        "        x = np.random.randint(low=0, high=max_x, size=1)[0]\n",
        "        y = np.random.randint(low=0, high=max_y, size=1)[0]\n",
        "        x_a, y_a = x,y \n",
        "        x_b, y_b = x + f_width, y\n",
        "        x_c, y_c = x, y + f_height\n",
        "        x_d, y_d = x + f_width, y + f_height\n",
        "        tup = (x,y,b_width,b_height,f_width,f_height,x_a, y_a, x_b, y_b, x_c, y_c, x_d, y_d) \n",
        "        lst.append(tup)\n",
        "    return lst     "
      ],
      "execution_count": 0,
      "outputs": []
    },
    {
      "cell_type": "code",
      "metadata": {
        "id": "pSxvHhgGDiaF",
        "colab_type": "code",
        "colab": {}
      },
      "source": [
        "def fg_bg_creation(pos_list):\n",
        "    global i, log_fg_bg, log_fg_bg_mask\n",
        "\n",
        "    for tup in range(int(positions/2)):\n",
        "        i += 1      \n",
        "        x,y = pos_list[tup][0:2]       \n",
        "        background = Image.open(f'{path_bg}{bg_img}') \n",
        "        foreground = Image.open(f'{path_fg}{fg_img}')                                       \n",
        "        background.paste(foreground, (x, y), foreground)\n",
        "        fg_bg_img_name  = 'Img_fg_bg_' + str(i) + '.jpg'\n",
        "        background.save(f'{path_fg_bg}{fg_bg_img_name}')\n",
        "        string = f'{fg_bg_img_name},{bg_img},{fg_img},' + str(pos_list[tup][2:]) + '\\n'\n",
        "        log_fg_bg.write(string)\n",
        "                \n",
        "        foreground = foreground.convert('L')\n",
        "        foreground = foreground.point(lambda x: 255 if x > 0 else 0 , '1')\n",
        "        background = Image.open(f'{path_bg}{bg_img}')\n",
        "        background = background.convert('L')\n",
        "        background = background.point(lambda x: 0 if x > 0 else 255 , '1')\n",
        "        background.paste(foreground, (x, y), foreground)\n",
        "        fg_bg_mask_name  = 'Img_fg_bg_mask' + str(i) + '.jpg'\n",
        "        background.save(f'{path_fg_bg_mask}{fg_bg_mask_name}')\n",
        "        string = f'{fg_bg_mask_name},{bg_img},{fg_img},' + str(pos_list[tup][2:]) + '\\n'\n",
        "        log_fg_bg_mask.write(string) \n",
        "\n",
        "    for tup in range(int(positions/2),int(positions)):\n",
        "        i += 1       \n",
        "        x,y = pos_list[tup][0:2]           \n",
        "        background  = Image.open(f'{path_bg}{bg_img}')  \n",
        "        background  = ImageOps.mirror(background)\n",
        "        foreground  = Image.open(f'{path_fg}{fg_img}')           \n",
        "        background.paste(foreground, (x, y), foreground)                  \n",
        "        fg_bg_img_name = 'Img_fg_bg_' + str(i) + '.jpg'\n",
        "        background.save(f'{path_fg_bg}{fg_bg_img_name}') \n",
        "        string = f'{fg_bg_img_name},{bg_img},{fg_img},' + str(pos_list[tup][2:]) + '\\n'  \n",
        "        log_fg_bg.write(string)\n",
        "\n",
        "        foreground = foreground.convert('L')\n",
        "        foreground = foreground.point(lambda x: 255 if x > 0 else 0 , '1')\n",
        "        background = Image.open(f'{path_bg}{bg_img}')\n",
        "        background = ImageOps.mirror(background)\n",
        "        background = background.convert('L')\n",
        "        background = background.point(lambda x: 0 if x > 0 else 255 , '1')        \n",
        "        background.paste(foreground, (x, y), foreground)\n",
        "        fg_bg_mask_name  = 'Img_fg_bg_mask' + str(i) + '.jpg'\n",
        "        background.save(f'{path_fg_bg_mask}{fg_bg_mask_name}')\n",
        "        string = f'{fg_bg_mask_name},{bg_img},{fg_img},' + str(pos_list[tup][2:]) + '\\n'\n",
        "        log_fg_bg_mask.write(string)                         "
      ],
      "execution_count": 0,
      "outputs": []
    },
    {
      "cell_type": "code",
      "metadata": {
        "id": "hNNT8bhjH_qd",
        "colab_type": "code",
        "outputId": "3b6eda0f-b891-4e0f-eff6-4f0d8153b9b1",
        "colab": {
          "base_uri": "https://localhost:8080/",
          "height": 121
        }
      },
      "source": [
        "path_bg         = '/content/gdrive/My Drive/EVA4P1_S15/BG_Images/'\n",
        "path_fg         = '/content/gdrive/My Drive/EVA4P1_S15/FG_Images/'\n",
        "path_fg_bg      = '/content/sample_data/FG_BG/'\n",
        "path_fg_bg_mask = '/content/sample_data/FG_BG_Mask/'\n",
        "log_fg_bg       = open('/content/sample_data/FG_BG_Filename_Logs.txt', \"w\")\n",
        "log_fg_bg_mask  = open('/content/sample_data/FG_BG_Mask_Filename_Logs.txt', \"w\")\n",
        "positions  = 40\n",
        "i          = 0\n",
        "\n",
        "print('Image Creation - Start Time:',datetime.now())\n",
        "\n",
        "for bg_img in os.listdir(path_bg):\n",
        "    if bg_img.endswith('jpg'):\n",
        "       for fg_img in os.listdir(path_fg):\n",
        "           if fg_img.endswith('png'):\n",
        "              bg = Image.open(f'{path_bg}{bg_img}') \n",
        "              fg = Image.open(f'{path_fg}{fg_img}') \n",
        "              pos_list   = pos_generator(bg.size, fg.size, positions)\n",
        "              fg_bg_creation(pos_list)\n",
        "    if i%50000 == 0:\n",
        "       print('Progress:',datetime.now(),'Images:',i)\n",
        "\n",
        "print('Total Images saved:',i)\n",
        "log_fg_bg.close()\n",
        "log_fg_bg_mask.close()"
      ],
      "execution_count": 52,
      "outputs": [
        {
          "output_type": "stream",
          "text": [
            "Image Creation - Start Time: 2020-05-09 09:31:03.887999\n",
            "Progress: 2020-05-09 09:42:08.597080 Images: 100000\n",
            "Progress: 2020-05-09 09:52:08.674283 Images: 200000\n",
            "Progress: 2020-05-09 10:02:14.880928 Images: 300000\n",
            "Progress: 2020-05-09 10:12:32.938603 Images: 400000\n",
            "Total Images saved: 400000\n"
          ],
          "name": "stdout"
        }
      ]
    },
    {
      "cell_type": "code",
      "metadata": {
        "id": "mrEg7Glo3gmy",
        "colab_type": "code",
        "colab": {
          "base_uri": "https://localhost:8080/",
          "height": 35
        },
        "outputId": "a8a84d3e-497a-4dc3-c984-427ca50eed61"
      },
      "source": [
        "## Quick count check in colab folder\n",
        "path_file = '/content/sample_data/FG_BG/'\n",
        "i = 0\n",
        "for img in os.listdir(path_file):\n",
        "    if img.endswith('jpg'):\n",
        "       i += 1\n",
        "print('Total FG_BG Images:',i)"
      ],
      "execution_count": 53,
      "outputs": [
        {
          "output_type": "stream",
          "text": [
            "Total FG_BG Images: 400000\n"
          ],
          "name": "stdout"
        }
      ]
    },
    {
      "cell_type": "code",
      "metadata": {
        "id": "6_a5ZSyf64ZB",
        "colab_type": "code",
        "colab": {
          "base_uri": "https://localhost:8080/",
          "height": 35
        },
        "outputId": "fc8b96b4-6dbe-4e26-e2fe-77c0f22fa893"
      },
      "source": [
        "path_file = '/content/sample_data/FG_BG_Mask/'\n",
        "i = 0\n",
        "for img in os.listdir(path_file):\n",
        "    if img.endswith('jpg'):\n",
        "       i += 1\n",
        "print('Total Mask Images:',i)"
      ],
      "execution_count": 54,
      "outputs": [
        {
          "output_type": "stream",
          "text": [
            "Total Mask Images: 400000\n"
          ],
          "name": "stdout"
        }
      ]
    },
    {
      "cell_type": "code",
      "metadata": {
        "id": "i-V9L7KXIFgF",
        "colab_type": "code",
        "colab": {}
      },
      "source": [
        "zipname_fg_bg      = 'FG_BG'\n",
        "zipname_fg_bg_mask = 'FG_BG_Mask'\n",
        "\n",
        "def zipfolder(foldername, target_dir):            \n",
        "    zipobj = zipfile.ZipFile(foldername + '.zip', 'w', zipfile.ZIP_DEFLATED)\n",
        "    rootlen = len(target_dir) + 1\n",
        "    for base, dirs, files in os.walk(target_dir):\n",
        "        for file in files:\n",
        "            fn = os.path.join(base, file)\n",
        "            zipobj.write(fn, fn[rootlen:])"
      ],
      "execution_count": 0,
      "outputs": []
    },
    {
      "cell_type": "code",
      "metadata": {
        "id": "ZWPgB10IkMmP",
        "colab_type": "code",
        "colab": {}
      },
      "source": [
        "zipfolder(zipname_fg_bg, '/content/sample_data/')"
      ],
      "execution_count": 0,
      "outputs": []
    },
    {
      "cell_type": "code",
      "metadata": {
        "id": "qvQC-3l77BUf",
        "colab_type": "code",
        "colab": {}
      },
      "source": [
        "zipfolder(zipname_fg_bg_mask, '/content/sample_data/')"
      ],
      "execution_count": 0,
      "outputs": []
    },
    {
      "cell_type": "code",
      "metadata": {
        "id": "jP2D2k-v4voH",
        "colab_type": "code",
        "colab": {}
      },
      "source": [
        "!cp '/content/sample_data/FG_BG_Filename_Logs.txt' '/content/gdrive/My Drive/EVA4P1_S15/'"
      ],
      "execution_count": 0,
      "outputs": []
    },
    {
      "cell_type": "code",
      "metadata": {
        "id": "BTzVUq-946Yl",
        "colab_type": "code",
        "colab": {}
      },
      "source": [
        "!cp '/content/sample_data/FG_BG_Mask_Filename_Logs.txt' '/content/gdrive/My Drive/EVA4P1_S15/'"
      ],
      "execution_count": 0,
      "outputs": []
    },
    {
      "cell_type": "code",
      "metadata": {
        "id": "fxZ1pZVnIIW7",
        "colab_type": "code",
        "colab": {}
      },
      "source": [
        "!cp FG_BG.zip '/content/gdrive/My Drive/EVA4P1_S15/FG_BG/'"
      ],
      "execution_count": 0,
      "outputs": []
    },
    {
      "cell_type": "code",
      "metadata": {
        "id": "Xz-qfH0g4nL5",
        "colab_type": "code",
        "colab": {}
      },
      "source": [
        "!cp FG_BG_Mask.zip '/content/gdrive/My Drive/EVA4P1_S15/FG_BG_Mask/'"
      ],
      "execution_count": 0,
      "outputs": []
    },
    {
      "cell_type": "code",
      "metadata": {
        "id": "Mv1jrtQKIJmi",
        "colab_type": "code",
        "colab": {}
      },
      "source": [
        "#drive.flush_and_unmount()"
      ],
      "execution_count": 0,
      "outputs": []
    },
    {
      "cell_type": "code",
      "metadata": {
        "id": "z4wSkUWvAoKi",
        "colab_type": "code",
        "colab": {
          "base_uri": "https://localhost:8080/",
          "height": 104
        },
        "outputId": "48710ae4-2b74-42a7-b566-25c228c34e91"
      },
      "source": [
        "path_file = '/content/sample_data/FG_BG/'\n",
        "for i in range(5):\n",
        "    num = np.random.randint(low=100000, high=400000, size=1)[0]\n",
        "    fg_bg_img = 'Img_fg_bg_' + str(num) + '.jpg'\n",
        "    string = (f'{path_file}{fg_bg_img}') \n",
        "    print(string)"
      ],
      "execution_count": 65,
      "outputs": [
        {
          "output_type": "stream",
          "text": [
            "/content/sample_data/FG_BG/Img_fg_bg_240821.jpg\n",
            "/content/sample_data/FG_BG/Img_fg_bg_243757.jpg\n",
            "/content/sample_data/FG_BG/Img_fg_bg_229146.jpg\n",
            "/content/sample_data/FG_BG/Img_fg_bg_191912.jpg\n",
            "/content/sample_data/FG_BG/Img_fg_bg_312316.jpg\n"
          ],
          "name": "stdout"
        }
      ]
    },
    {
      "cell_type": "code",
      "metadata": {
        "id": "IC1PATjAF3Yi",
        "colab_type": "code",
        "colab": {
          "base_uri": "https://localhost:8080/",
          "height": 209
        },
        "outputId": "19e2b7b6-a2c9-4eb4-eb0f-b2badb355fec"
      },
      "source": [
        "fg_bg  = Image.open('/content/sample_data/FG_BG/Img_fg_bg_9.jpg') \n",
        "fg_bg"
      ],
      "execution_count": 88,
      "outputs": [
        {
          "output_type": "execute_result",
          "data": {
            "image/png": "[encoded data removed]",
            "text/plain": [
              "<PIL.JpegImagePlugin.JpegImageFile image mode=RGB size=192x192 at 0x7FDBAEDCB780>"
            ]
          },
          "metadata": {
            "tags": []
          },
          "execution_count": 88
        }
      ]
    },
    {
      "cell_type": "code",
      "metadata": {
        "id": "XG3M2IJlGEg-",
        "colab_type": "code",
        "colab": {
          "base_uri": "https://localhost:8080/",
          "height": 209
        },
        "outputId": "773c2f63-8e90-466c-b3bf-f0f5281f58ad"
      },
      "source": [
        "fg_bg_mask  = Image.open('/content/sample_data/FG_BG_Mask/Img_fg_bg_mask9.jpg') \n",
        "fg_bg_mask"
      ],
      "execution_count": 89,
      "outputs": [
        {
          "output_type": "execute_result",
          "data": {
            "image/png": "[encoded data removed]",
            "text/plain": [
              "<PIL.JpegImagePlugin.JpegImageFile image mode=L size=192x192 at 0x7FDBAEDCB898>"
            ]
          },
          "metadata": {
            "tags": []
          },
          "execution_count": 89
        }
      ]
    },
    {
      "cell_type": "code",
      "metadata": {
        "id": "ToQ1LunmGtDd",
        "colab_type": "code",
        "colab": {}
      },
      "source": [
        ""
      ],
      "execution_count": 0,
      "outputs": []
    }
  ]
}