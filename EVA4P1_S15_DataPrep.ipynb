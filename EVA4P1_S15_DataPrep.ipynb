{
  "nbformat": 4,
  "nbformat_minor": 0,
  "metadata": {
    "colab": {
      "name": "EVA4P1_S15_DataPrep.ipynb",
      "provenance": [],
      "collapsed_sections": [],
      "mount_file_id": "19Lb4vV5qUA7RjVCkypqKKR74WW1DXPwZ",
      "authorship_tag": "ABX9TyPj//3q+M/kFMnWizxv3aTJ",
      "include_colab_link": true
    },
    "kernelspec": {
      "name": "python3",
      "display_name": "Python 3"
    },
    "accelerator": "GPU"
  },
  "cells": [
    {
      "cell_type": "markdown",
      "metadata": {
        "id": "view-in-github",
        "colab_type": "text"
      },
      "source": [
        "<a href=\"https://colab.research.google.com/github/anilbhatt1/EVA4P1_S15_MaskRCNN/blob/master/EVA4P1_S15_DataPrep.ipynb\" target=\"_parent\"><img src=\"https://colab.research.google.com/assets/colab-badge.svg\" alt=\"Open In Colab\"/></a>"
      ]
    },
    {
      "cell_type": "code",
      "metadata": {
        "id": "Z_AL-V-u7mdr",
        "colab_type": "code",
        "outputId": "4d09ef62-057e-4faa-a5f5-c41782548d16",
        "colab": {
          "base_uri": "https://localhost:8080/",
          "height": 35
        }
      },
      "source": [
        "from google.colab import drive\n",
        "drive.mount('/content/gdrive')"
      ],
      "execution_count": 32,
      "outputs": [
        {
          "output_type": "stream",
          "text": [
            "Mounted at /content/gdrive\n"
          ],
          "name": "stdout"
        }
      ]
    },
    {
      "cell_type": "code",
      "metadata": {
        "id": "tTQCfaX484Ty",
        "colab_type": "code",
        "outputId": "1891e63c-9bab-4460-83f4-0aae24fd501a",
        "colab": {
          "base_uri": "https://localhost:8080/",
          "height": 35
        }
      },
      "source": [
        "from datetime import datetime \n",
        "print(\"Current Date/Time: \", datetime.now())"
      ],
      "execution_count": 0,
      "outputs": [
        {
          "output_type": "stream",
          "text": [
            "Current Date/Time:  2020-05-04 16:48:47.301193\n"
          ],
          "name": "stdout"
        }
      ]
    },
    {
      "cell_type": "code",
      "metadata": {
        "id": "bZVrNufu014T",
        "colab_type": "code",
        "colab": {}
      },
      "source": [
        "#drive.flush_and_unmount()"
      ],
      "execution_count": 0,
      "outputs": []
    },
    {
      "cell_type": "code",
      "metadata": {
        "id": "E_f4Yuk-PIch",
        "colab_type": "code",
        "colab": {}
      },
      "source": [
        "import os\n",
        "import PIL\n",
        "from PIL import Image, ImageOps\n",
        "from random import seed\n",
        "from random import randint"
      ],
      "execution_count": 0,
      "outputs": []
    },
    {
      "cell_type": "code",
      "metadata": {
        "id": "2IE6ntAmPrvg",
        "colab_type": "code",
        "colab": {}
      },
      "source": [
        "def pos_generator(num1,num2,positions):\n",
        "    lst = []\n",
        "    for i in range(positions):\n",
        "        x = randint(num1,num2)\n",
        "        y = randint(num1,num2)\n",
        "        tup = (x,y) \n",
        "        lst.append(tup)\n",
        "    return lst    "
      ],
      "execution_count": 0,
      "outputs": []
    },
    {
      "cell_type": "code",
      "metadata": {
        "id": "10m6GSxPP3Ep",
        "colab_type": "code",
        "outputId": "2050ce01-b027-4d0b-8b7c-4e8a234876ad",
        "colab": {
          "base_uri": "https://localhost:8080/",
          "height": 173
        }
      },
      "source": [
        "path_bg    = '/content/gdrive/My Drive/EVA4P1_S15/BG_Images/'\n",
        "path_fg    = '/content/gdrive/My Drive/EVA4P1_S15/FG_Images/'\n",
        "path_fg_bg = '/content/sample_data/FG_BG/'\n",
        "file1      = open('/content/sample_data/FG_BG_Filename_Logs.txt', \"w\")\n",
        "num1       = 0\n",
        "num2       = 100\n",
        "positions  = 20\n",
        "i          = 0\n",
        "\n",
        "for bg_img in os.listdir(path_bg):\n",
        "    if bg_img.endswith('jpg'):\n",
        "       for fg_img in os.listdir(path_fg):\n",
        "           if fg_img.endswith('png'):\n",
        "              foreground = Image.open(f'{path_fg}{fg_img}') \n",
        "              pos1_list  = pos_generator(num1,num2, positions)\n",
        "              pos2_list  = pos_generator(num1+10,num2+10, positions)\n",
        "              for tup in range(len(pos1_list)):\n",
        "                  i += 1\n",
        "                  x,y = pos1_list[tup]\n",
        "                  background = Image.open(f'{path_bg}{bg_img}')                            \n",
        "                  background.paste(foreground, (x, y), foreground)\n",
        "                  fg_bg_img_name  = 'Img_fg_bg_' + str(i) + '.jpg'\n",
        "                  background.save(f'{path_fg_bg}{fg_bg_img_name}')\n",
        "                  string = f'{path_fg_bg}{fg_bg_img_name}' + '\\n'\n",
        "                  file1.write(string)\n",
        "                  i += 1\n",
        "                  x,y = pos2_list[tup]\n",
        "                  background_flip  = Image.open(f'{path_bg}{bg_img}')  \n",
        "                  background_flip  = ImageOps.mirror(background_flip)\n",
        "                  background_flip.paste(foreground, (x, y), foreground)                  \n",
        "                  fg_bg_img_name = 'Img_fg_bg_' + str(i) + '.jpg'\n",
        "                  background_flip.save(f'{path_fg_bg}{fg_bg_img_name}') \n",
        "                  string = f'{path_fg_bg}{fg_bg_img_name}' + '\\n'\n",
        "                  file1.write(string)                      \n",
        "    if i % 100000 == 0:\n",
        "       print('Progress: ',i,' fg_bg images saved so far ',datetime.now())\n",
        "       print('fg_bg_img_name:',fg_bg_img_name)\n",
        "print('Total Images saved:',i)\n",
        "file1.close()"
      ],
      "execution_count": 0,
      "outputs": [
        {
          "output_type": "stream",
          "text": [
            "Progress:  100000  fg_bg images saved so far  2020-05-04 15:32:03.961139\n",
            "fg_bg_img_name: Img_fg_bg_100000.jpg\n",
            "Progress:  200000  fg_bg images saved so far  2020-05-04 15:40:37.839363\n",
            "fg_bg_img_name: Img_fg_bg_200000.jpg\n",
            "Progress:  300000  fg_bg images saved so far  2020-05-04 15:50:29.914947\n",
            "fg_bg_img_name: Img_fg_bg_300000.jpg\n",
            "Progress:  400000  fg_bg images saved so far  2020-05-04 15:59:48.223838\n",
            "fg_bg_img_name: Img_fg_bg_400000.jpg\n",
            "Total Images saved: 400000\n"
          ],
          "name": "stdout"
        }
      ]
    },
    {
      "cell_type": "code",
      "metadata": {
        "id": "IVp2_fRemdC9",
        "colab_type": "code",
        "outputId": "c9c7f12b-344e-434f-cfff-21b34e8b3f6e",
        "colab": {
          "base_uri": "https://localhost:8080/",
          "height": 35
        }
      },
      "source": [
        "file2 = open('/content/sample_data/SampleDrive_Filenames.txt', \"w\")\n",
        "k = 0\n",
        "path_fg_bg = '/content/sample_data/FG_BG/'\n",
        "for fg_bg in os.listdir(path_fg_bg):\n",
        "    string  = f'{path_fg_bg}{fg_bg}' + '\\n'\n",
        "    file2.write(string)\n",
        "    k +=1\n",
        "file2.close()  \n",
        "print('No: of files in sample drive:',k)"
      ],
      "execution_count": 0,
      "outputs": [
        {
          "output_type": "stream",
          "text": [
            "No: of files in sample drive: 400000\n"
          ],
          "name": "stdout"
        }
      ]
    },
    {
      "cell_type": "code",
      "metadata": {
        "id": "WYeQpZiGfQK2",
        "colab_type": "code",
        "colab": {}
      },
      "source": [
        "!pip install -U -q PyDrive\n",
        "\n",
        "from google.colab import files\n",
        "from pydrive.auth import GoogleAuth\n",
        "from pydrive.drive import GoogleDrive\n",
        "from google.colab import auth\n",
        "from oauth2client.client import GoogleCredentials\n",
        "import zipfile\n",
        "import os\n",
        "import sys"
      ],
      "execution_count": 0,
      "outputs": []
    },
    {
      "cell_type": "code",
      "metadata": {
        "id": "PqI1G44lTJP7",
        "colab_type": "code",
        "colab": {}
      },
      "source": [
        "zipname = 'FG_BG'\n",
        "\n",
        "def zipfolder(foldername, target_dir):            \n",
        "    zipobj = zipfile.ZipFile(foldername + '.zip', 'w', zipfile.ZIP_DEFLATED)\n",
        "    rootlen = len(target_dir) + 1\n",
        "    for base, dirs, files in os.walk(target_dir):\n",
        "        for file in files:\n",
        "            fn = os.path.join(base, file)\n",
        "            zipobj.write(fn, fn[rootlen:])"
      ],
      "execution_count": 0,
      "outputs": []
    },
    {
      "cell_type": "code",
      "metadata": {
        "id": "D15X6dnbuDq7",
        "colab_type": "code",
        "colab": {}
      },
      "source": [
        "zipfolder(zipname, '/content/sample_data/FG_BG')"
      ],
      "execution_count": 0,
      "outputs": []
    },
    {
      "cell_type": "code",
      "metadata": {
        "id": "1o5Chlw_lMjb",
        "colab_type": "code",
        "colab": {}
      },
      "source": [
        "!cp FG_BG.zip '/content/gdrive/My Drive/EVA4P1_S15/'"
      ],
      "execution_count": 0,
      "outputs": []
    },
    {
      "cell_type": "code",
      "metadata": {
        "id": "i3tsoBQvdX_j",
        "colab_type": "code",
        "colab": {}
      },
      "source": [
        "drive.flush_and_unmount()"
      ],
      "execution_count": 0,
      "outputs": []
    },
    {
      "cell_type": "code",
      "metadata": {
        "id": "CHJs76N-n3-7",
        "colab_type": "code",
        "outputId": "434b4a73-1887-4835-93aa-527cc6b5585c",
        "colab": {
          "base_uri": "https://localhost:8080/",
          "height": 35
        }
      },
      "source": [
        "from google.colab import drive\n",
        "drive.mount('/content/gdrive')"
      ],
      "execution_count": 0,
      "outputs": [
        {
          "output_type": "stream",
          "text": [
            "Mounted at /content/gdrive\n"
          ],
          "name": "stdout"
        }
      ]
    },
    {
      "cell_type": "code",
      "metadata": {
        "id": "E-Kp0T9pqQYS",
        "colab_type": "code",
        "colab": {}
      },
      "source": [
        "!unzip -q \"/content/gdrive/My Drive/EVA4P1_S15/FG_BG.zip\""
      ],
      "execution_count": 0,
      "outputs": []
    },
    {
      "cell_type": "code",
      "metadata": {
        "id": "Tv6JZTVnqkqJ",
        "colab_type": "code",
        "colab": {}
      },
      "source": [
        "#le2 = open('/content/sample_data/SampleDrive_Filenames.txt', \"w\")\n",
        "k = 0\n",
        "path_fg_bg = '/content/sample_data/'\n",
        "for file_name in os.listdir(path_fg_bg):\n",
        "    k +=1\n",
        "print('No: of files in sample drive:',k)"
      ],
      "execution_count": 0,
      "outputs": []
    },
    {
      "cell_type": "code",
      "metadata": {
        "id": "dyt0MDMftI3X",
        "colab_type": "code",
        "colab": {}
      },
      "source": [
        ""
      ],
      "execution_count": 0,
      "outputs": []
    }
  ]
}