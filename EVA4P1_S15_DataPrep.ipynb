{
  "nbformat": 4,
  "nbformat_minor": 0,
  "metadata": {
    "colab": {
      "name": "EVA4P1_S15_DataPrep.ipynb",
      "provenance": [],
      "collapsed_sections": [],
      "authorship_tag": "ABX9TyMwsDPQ3rUSTKuwXLdbs07A",
      "include_colab_link": true
    },
    "kernelspec": {
      "name": "python3",
      "display_name": "Python 3"
    },
    "accelerator": "GPU"
  },
  "cells": [
    {
      "cell_type": "markdown",
      "metadata": {
        "id": "view-in-github",
        "colab_type": "text"
      },
      "source": [
        "<a href=\"https://colab.research.google.com/github/anilbhatt1/EVA4P1_S15_MaskRCNN/blob/master/EVA4P1_S15_DataPrep.ipynb\" target=\"_parent\"><img src=\"https://colab.research.google.com/assets/colab-badge.svg\" alt=\"Open In Colab\"/></a>"
      ]
    },
    {
      "cell_type": "code",
      "metadata": {
        "id": "wMPZ_u0u_ZUp",
        "colab_type": "code",
        "outputId": "d170cccc-ede4-4069-bd62-d661387408bc",
        "colab": {
          "base_uri": "https://localhost:8080/",
          "height": 35
        }
      },
      "source": [
        "from datetime import datetime \n",
        "print(\"Current Date/Time: \", datetime.now())"
      ],
      "execution_count": 21,
      "outputs": [
        {
          "output_type": "stream",
          "text": [
            "Current Date/Time:  2020-05-09 08:21:23.352026\n"
          ],
          "name": "stdout"
        }
      ]
    },
    {
      "cell_type": "code",
      "metadata": {
        "id": "9zpITGyXH3BT",
        "colab_type": "code",
        "outputId": "7016b766-7950-43a2-d29d-c9a683007129",
        "colab": {
          "base_uri": "https://localhost:8080/",
          "height": 55
        }
      },
      "source": [
        "from google.colab import drive\n",
        "drive.mount('/content/gdrive')"
      ],
      "execution_count": 23,
      "outputs": [
        {
          "output_type": "stream",
          "text": [
            "Drive already mounted at /content/gdrive; to attempt to forcibly remount, call drive.mount(\"/content/gdrive\", force_remount=True).\n"
          ],
          "name": "stdout"
        }
      ]
    },
    {
      "cell_type": "code",
      "metadata": {
        "id": "qGnKPp0cH6-3",
        "colab_type": "code",
        "colab": {}
      },
      "source": [
        "import os\n",
        "import PIL\n",
        "import numpy as np\n",
        "from PIL import Image, ImageOps\n",
        "import zipfile\n",
        "import sys"
      ],
      "execution_count": 0,
      "outputs": []
    },
    {
      "cell_type": "code",
      "metadata": {
        "id": "zt87f4dpVuFI",
        "colab_type": "code",
        "colab": {}
      },
      "source": [
        "'''\n",
        "----------------------------------\n",
        "|    (x_a,y_a)       (x_b,y_b)   |\n",
        "|    *---------------*           |\n",
        "|    |               |           |\n",
        "|    |               |           |\n",
        "|    *---------------*           |\n",
        "|    (x_c,y_c)       (x_d,y_d)   |\n",
        "|                                |\n",
        "----------------------------------\n",
        "'''"
      ],
      "execution_count": 0,
      "outputs": []
    },
    {
      "cell_type": "code",
      "metadata": {
        "id": "rvI07UQzH8y5",
        "colab_type": "code",
        "colab": {}
      },
      "source": [
        "def pos_generator(bg_size,fg_size,positions):\n",
        "    lst  = []\n",
        "    b_width, b_height = bg_size\n",
        "    f_width, f_height = fg_size\n",
        "    max_y = b_height - f_height\n",
        "    max_x = b_width - f_width\n",
        "    print(max_y,max_x)\n",
        "    for i in range(positions):\n",
        "        x = np.random.randint(low=0, high=max_x, size=1)[0]\n",
        "        y = np.random.randint(low=0, high=max_y, size=1)[0]\n",
        "        x_a, y_a = x,y \n",
        "        x_b, y_b = x + f_width, y\n",
        "        x_c, y_c = x, y + f_height\n",
        "        x_d, y_d = x + f_width, y + f_height\n",
        "        tup = (x,y,b_width,b_height,f_width,f_height,x_a, y_a, x_b, y_b, x_c, y_c, x_d, y_d) \n",
        "        lst.append(tup)\n",
        "    return lst     "
      ],
      "execution_count": 0,
      "outputs": []
    },
    {
      "cell_type": "code",
      "metadata": {
        "id": "pSxvHhgGDiaF",
        "colab_type": "code",
        "colab": {}
      },
      "source": [
        "def fg_bg_creation(pos_list):\n",
        "    global i, log_fg_bg, log_fg_bg_mask\n",
        "\n",
        "    for tup in range(int(positions/2)):\n",
        "        i += 1\n",
        "        print('i,positions:',tup ,pos_list[tup])        \n",
        "        x,y = pos_list[tup][0:2]       \n",
        "        background = Image.open(f'{path_bg}{bg_img}') \n",
        "        foreground = Image.open(f'{path_fg}{fg_img}')                                       \n",
        "        background.paste(foreground, (x, y), foreground)\n",
        "        fg_bg_img_name  = 'Img_fg_bg_' + str(i) + '.jpg'\n",
        "        background.save(f'{path_fg_bg}{fg_bg_img_name}')\n",
        "        string = f'{path_fg_bg}{fg_bg_img_name},{bg_img},{fg_img},' + str(pos_list[tup][2:]) + '\\n'\n",
        "        log_fg_bg.write(string)\n",
        "                \n",
        "        foreground = foreground.convert('L')\n",
        "        foreground = foreground.point(lambda x: 255 if x > 0 else 0 , '1')\n",
        "        background = Image.open(f'{path_bg}{bg_img}')\n",
        "        background = background.convert('L')\n",
        "        background = background.point(lambda x: 0 if x > 0 else 255 , '1')\n",
        "        background.paste(foreground, (x, y), foreground)\n",
        "        fg_bg_mask_name  = 'Img_fg_bg_mask' + str(i) + '.jpg'\n",
        "        background.save(f'{path_fg_bg_mask}{fg_bg_mask_name}')\n",
        "        string = f'{path_fg_bg_mask}{fg_bg_mask_name},{bg_img},{fg_img},' + str(pos_list[tup][2:]) + '\\n'\n",
        "        log_fg_bg_mask.write(string) \n",
        "\n",
        "    for tup in range(int(positions/2),int(positions)):\n",
        "        i += 1\n",
        "        print('i,positions:',tup ,pos_list[tup])         \n",
        "        x,y = pos_list[tup][0:2]           \n",
        "        background  = Image.open(f'{path_bg}{bg_img}')  \n",
        "        background  = ImageOps.mirror(background)\n",
        "        foreground  = Image.open(f'{path_fg}{fg_img}')           \n",
        "        background.paste(foreground, (x, y), foreground)                  \n",
        "        fg_bg_img_name = 'Img_fg_bg_' + str(i) + '.jpg'\n",
        "        background.save(f'{path_fg_bg}{fg_bg_img_name}') \n",
        "        string = f'{path_fg_bg}{fg_bg_img_name},{bg_img},{fg_img},' + str(pos_list[tup][2:]) + '\\n'  \n",
        "        log_fg_bg.write(string)\n",
        "\n",
        "        foreground = foreground.convert('L')\n",
        "        foreground = foreground.point(lambda x: 255 if x > 0 else 0 , '1')\n",
        "        background = Image.open(f'{path_bg}{bg_img}')\n",
        "        background = ImageOps.mirror(background)\n",
        "        background = background.convert('L')\n",
        "        background = background.point(lambda x: 0 if x > 0 else 255 , '1')        \n",
        "        background.paste(foreground, (x, y), foreground)\n",
        "        fg_bg_mask_name  = 'Img_fg_bg_mask' + str(i) + '.jpg'\n",
        "        background.save(f'{path_fg_bg_mask}{fg_bg_mask_name}')\n",
        "        string = f'{path_fg_bg_mask}{fg_bg_mask_name},{bg_img},{fg_img},' + str(pos_list[tup][2:]) + '\\n'\n",
        "        log_fg_bg_mask.write(string)                         "
      ],
      "execution_count": 0,
      "outputs": []
    },
    {
      "cell_type": "code",
      "metadata": {
        "id": "hNNT8bhjH_qd",
        "colab_type": "code",
        "outputId": "62f23d6f-222a-473f-8fe8-96306260154e",
        "colab": {
          "base_uri": "https://localhost:8080/",
          "height": 763
        }
      },
      "source": [
        "path_bg         = '/content/gdrive/My Drive/Test_S15/Test_BG_Images/'\n",
        "path_fg         = '/content/gdrive/My Drive/Test_S15/Test_FG_Images/'\n",
        "path_fg_bg      = '/content/sample_data/FG_BG/'\n",
        "path_fg_bg_mask = '/content/sample_data/FG_BG_Mask/'\n",
        "log_fg_bg       = open('/content/sample_data/FG_BG_Filename_Logs.txt', \"w\")\n",
        "log_fg_bg_mask  = open('/content/sample_data/FG_BG_Mask_Filename_Logs.txt', \"w\")\n",
        "positions  = 40\n",
        "i          = 0\n",
        "\n",
        "print('Image Creation - Start Time:',datetime.now())\n",
        "\n",
        "for bg_img in os.listdir(path_bg):\n",
        "    if bg_img.endswith('jpg'):\n",
        "       for fg_img in os.listdir(path_fg):\n",
        "           if fg_img.endswith('png'):\n",
        "              bg = Image.open(f'{path_bg}{bg_img}') \n",
        "              fg = Image.open(f'{path_fg}{fg_img}') \n",
        "              pos_list   = pos_generator(bg.size, fg.size, positions)\n",
        "              fg_bg_creation(pos_list)\n",
        "    if i%50000 == 0:\n",
        "       print('Progress:',datetime.now(),'Images:',i)\n",
        "\n",
        "print('Total Images saved:',i)\n",
        "log_fg_bg.close()\n",
        "log_fg_bg_mask.close()"
      ],
      "execution_count": 32,
      "outputs": [
        {
          "output_type": "stream",
          "text": [
            "Image Creation - Start Time: 2020-05-09 08:30:50.185248\n",
            "97 114\n",
            "i,positions: 0 (53, 45, 192, 192, 78, 95, 53, 45, 131, 45, 53, 140, 131, 140)\n",
            "i,positions: 1 (46, 50, 192, 192, 78, 95, 46, 50, 124, 50, 46, 145, 124, 145)\n",
            "i,positions: 2 (91, 27, 192, 192, 78, 95, 91, 27, 169, 27, 91, 122, 169, 122)\n",
            "i,positions: 3 (14, 20, 192, 192, 78, 95, 14, 20, 92, 20, 14, 115, 92, 115)\n",
            "i,positions: 4 (87, 25, 192, 192, 78, 95, 87, 25, 165, 25, 87, 120, 165, 120)\n",
            "i,positions: 5 (96, 68, 192, 192, 78, 95, 96, 68, 174, 68, 96, 163, 174, 163)\n",
            "i,positions: 6 (75, 36, 192, 192, 78, 95, 75, 36, 153, 36, 75, 131, 153, 131)\n",
            "i,positions: 7 (26, 58, 192, 192, 78, 95, 26, 58, 104, 58, 26, 153, 104, 153)\n",
            "i,positions: 8 (27, 47, 192, 192, 78, 95, 27, 47, 105, 47, 27, 142, 105, 142)\n",
            "i,positions: 9 (93, 94, 192, 192, 78, 95, 93, 94, 171, 94, 93, 189, 171, 189)\n",
            "i,positions: 10 (72, 40, 192, 192, 78, 95, 72, 40, 150, 40, 72, 135, 150, 135)\n",
            "i,positions: 11 (55, 63, 192, 192, 78, 95, 55, 63, 133, 63, 55, 158, 133, 158)\n",
            "i,positions: 12 (52, 22, 192, 192, 78, 95, 52, 22, 130, 22, 52, 117, 130, 117)\n",
            "i,positions: 13 (55, 33, 192, 192, 78, 95, 55, 33, 133, 33, 55, 128, 133, 128)\n",
            "i,positions: 14 (31, 85, 192, 192, 78, 95, 31, 85, 109, 85, 31, 180, 109, 180)\n",
            "i,positions: 15 (20, 20, 192, 192, 78, 95, 20, 20, 98, 20, 20, 115, 98, 115)\n",
            "i,positions: 16 (71, 17, 192, 192, 78, 95, 71, 17, 149, 17, 71, 112, 149, 112)\n",
            "i,positions: 17 (109, 25, 192, 192, 78, 95, 109, 25, 187, 25, 109, 120, 187, 120)\n",
            "i,positions: 18 (56, 89, 192, 192, 78, 95, 56, 89, 134, 89, 56, 184, 134, 184)\n",
            "i,positions: 19 (82, 29, 192, 192, 78, 95, 82, 29, 160, 29, 82, 124, 160, 124)\n",
            "i,positions: 20 (84, 3, 192, 192, 78, 95, 84, 3, 162, 3, 84, 98, 162, 98)\n",
            "i,positions: 21 (91, 26, 192, 192, 78, 95, 91, 26, 169, 26, 91, 121, 169, 121)\n",
            "i,positions: 22 (61, 72, 192, 192, 78, 95, 61, 72, 139, 72, 61, 167, 139, 167)\n",
            "i,positions: 23 (83, 78, 192, 192, 78, 95, 83, 78, 161, 78, 83, 173, 161, 173)\n",
            "i,positions: 24 (111, 61, 192, 192, 78, 95, 111, 61, 189, 61, 111, 156, 189, 156)\n",
            "i,positions: 25 (84, 16, 192, 192, 78, 95, 84, 16, 162, 16, 84, 111, 162, 111)\n",
            "i,positions: 26 (67, 70, 192, 192, 78, 95, 67, 70, 145, 70, 67, 165, 145, 165)\n",
            "i,positions: 27 (7, 11, 192, 192, 78, 95, 7, 11, 85, 11, 7, 106, 85, 106)\n",
            "i,positions: 28 (9, 94, 192, 192, 78, 95, 9, 94, 87, 94, 9, 189, 87, 189)\n",
            "i,positions: 29 (94, 64, 192, 192, 78, 95, 94, 64, 172, 64, 94, 159, 172, 159)\n",
            "i,positions: 30 (16, 95, 192, 192, 78, 95, 16, 95, 94, 95, 16, 190, 94, 190)\n",
            "i,positions: 31 (26, 43, 192, 192, 78, 95, 26, 43, 104, 43, 26, 138, 104, 138)\n",
            "i,positions: 32 (94, 71, 192, 192, 78, 95, 94, 71, 172, 71, 94, 166, 172, 166)\n",
            "i,positions: 33 (51, 37, 192, 192, 78, 95, 51, 37, 129, 37, 51, 132, 129, 132)\n",
            "i,positions: 34 (23, 39, 192, 192, 78, 95, 23, 39, 101, 39, 23, 134, 101, 134)\n",
            "i,positions: 35 (40, 26, 192, 192, 78, 95, 40, 26, 118, 26, 40, 121, 118, 121)\n",
            "i,positions: 36 (99, 2, 192, 192, 78, 95, 99, 2, 177, 2, 99, 97, 177, 97)\n",
            "i,positions: 37 (14, 46, 192, 192, 78, 95, 14, 46, 92, 46, 14, 141, 92, 141)\n",
            "i,positions: 38 (11, 69, 192, 192, 78, 95, 11, 69, 89, 69, 11, 164, 89, 164)\n",
            "i,positions: 39 (29, 81, 192, 192, 78, 95, 29, 81, 107, 81, 29, 176, 107, 176)\n",
            "Total Images saved: 40\n"
          ],
          "name": "stdout"
        }
      ]
    },
    {
      "cell_type": "code",
      "metadata": {
        "id": "i-V9L7KXIFgF",
        "colab_type": "code",
        "colab": {}
      },
      "source": [
        "zipname_fg_bg      = 'FG_BG'\n",
        "zipname_fg_bg_mask = 'FG_BG_Mask'\n",
        "\n",
        "def zipfolder(foldername, target_dir):            \n",
        "    zipobj = zipfile.ZipFile(foldername + '.zip', 'w', zipfile.ZIP_DEFLATED)\n",
        "    rootlen = len(target_dir) + 1\n",
        "    for base, dirs, files in os.walk(target_dir):\n",
        "        for file in files:\n",
        "            fn = os.path.join(base, file)\n",
        "            zipobj.write(fn, fn[rootlen:])"
      ],
      "execution_count": 0,
      "outputs": []
    },
    {
      "cell_type": "code",
      "metadata": {
        "id": "ZWPgB10IkMmP",
        "colab_type": "code",
        "colab": {}
      },
      "source": [
        "zipfolder(zipname_fg_bg, '/content/sample_data/')\n",
        "zipfolder(zipname_fg_bg_mask, '/content/sample_data/')"
      ],
      "execution_count": 0,
      "outputs": []
    },
    {
      "cell_type": "code",
      "metadata": {
        "id": "fxZ1pZVnIIW7",
        "colab_type": "code",
        "colab": {}
      },
      "source": [
        "!cp FG_BG.zip '/content/gdrive/My Drive/Test_S15/Test_FG_BG/'\n",
        "!cp FG_BG_Mask.zip '/content/gdrive/My Drive/Test_S15/Test_FG_BG/'"
      ],
      "execution_count": 0,
      "outputs": []
    },
    {
      "cell_type": "code",
      "metadata": {
        "id": "Mv1jrtQKIJmi",
        "colab_type": "code",
        "colab": {}
      },
      "source": [
        "#drive.flush_and_unmount()"
      ],
      "execution_count": 0,
      "outputs": []
    }
  ]
}