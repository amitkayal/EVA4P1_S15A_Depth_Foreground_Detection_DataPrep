{
  "nbformat": 4,
  "nbformat_minor": 0,
  "metadata": {
    "colab": {
      "name": "Statistics_FG_BG_Mask_Depth.ipynb",
      "provenance": [],
      "collapsed_sections": [],
      "toc_visible": true,
      "authorship_tag": "ABX9TyO7q4W3ev8JXtLNHVCdrV0h",
      "include_colab_link": true
    },
    "kernelspec": {
      "name": "python3",
      "display_name": "Python 3"
    },
    "accelerator": "GPU"
  },
  "cells": [
    {
      "cell_type": "markdown",
      "metadata": {
        "id": "view-in-github",
        "colab_type": "text"
      },
      "source": [
        "<a href=\"https://colab.research.google.com/github/anilbhatt1/EVA4P1_S15A_Depth_FG_Detection_DataPrep/blob/master/Statistics_FG_BG_Mask_Depth.ipynb\" target=\"_parent\"><img src=\"https://colab.research.google.com/assets/colab-badge.svg\" alt=\"Open In Colab\"/></a>"
      ]
    },
    {
      "cell_type": "code",
      "metadata": {
        "id": "_PIoMwzhSUHi",
        "colab_type": "code",
        "outputId": "d1123556-acbc-4618-bf3f-234166b4d5f8",
        "colab": {
          "base_uri": "https://localhost:8080/",
          "height": 312
        }
      },
      "source": [
        "! nvidia-smi"
      ],
      "execution_count": 1,
      "outputs": [
        {
          "output_type": "stream",
          "text": [
            "Fri May 29 12:10:14 2020       \n",
            "+-----------------------------------------------------------------------------+\n",
            "| NVIDIA-SMI 440.82       Driver Version: 418.67       CUDA Version: 10.1     |\n",
            "|-------------------------------+----------------------+----------------------+\n",
            "| GPU  Name        Persistence-M| Bus-Id        Disp.A | Volatile Uncorr. ECC |\n",
            "| Fan  Temp  Perf  Pwr:Usage/Cap|         Memory-Usage | GPU-Util  Compute M. |\n",
            "|===============================+======================+======================|\n",
            "|   0  Tesla P100-PCIE...  Off  | 00000000:00:04.0 Off |                    0 |\n",
            "| N/A   34C    P0    25W / 250W |      0MiB / 16280MiB |      0%      Default |\n",
            "+-------------------------------+----------------------+----------------------+\n",
            "                                                                               \n",
            "+-----------------------------------------------------------------------------+\n",
            "| Processes:                                                       GPU Memory |\n",
            "|  GPU       PID   Type   Process name                             Usage      |\n",
            "|=============================================================================|\n",
            "|  No running processes found                                                 |\n",
            "+-----------------------------------------------------------------------------+\n"
          ],
          "name": "stdout"
        }
      ]
    },
    {
      "cell_type": "code",
      "metadata": {
        "id": "GFYWQyJ0oLh2",
        "colab_type": "code",
        "outputId": "537cc9db-a094-4022-be46-da168dd8336a",
        "colab": {
          "base_uri": "https://localhost:8080/",
          "height": 124
        }
      },
      "source": [
        "from google.colab import drive\n",
        "drive.mount('/content/gdrive')"
      ],
      "execution_count": 2,
      "outputs": [
        {
          "output_type": "stream",
          "text": [
            "Go to this URL in a browser: https://accounts.google.com/o/oauth2/auth?client_id=947318989803-6bn6qk8qdgf4n4g3pfee6491hc0brc4i.apps.googleusercontent.com&redirect_uri=urn%3aietf%3awg%3aoauth%3a2.0%3aoob&response_type=code&scope=email%20https%3a%2f%2fwww.googleapis.com%2fauth%2fdocs.test%20https%3a%2f%2fwww.googleapis.com%2fauth%2fdrive%20https%3a%2f%2fwww.googleapis.com%2fauth%2fdrive.photos.readonly%20https%3a%2f%2fwww.googleapis.com%2fauth%2fpeopleapi.readonly\n",
            "\n",
            "Enter your authorization code:\n",
            "··········\n",
            "Mounted at /content/gdrive\n"
          ],
          "name": "stdout"
        }
      ]
    },
    {
      "cell_type": "code",
      "metadata": {
        "id": "axzhQLZ0SjOr",
        "colab_type": "code",
        "outputId": "bdb5e208-ba3e-44a5-dec0-248d124d8932",
        "colab": {
          "base_uri": "https://localhost:8080/",
          "height": 72
        }
      },
      "source": [
        "from zipfile import ZipFile\n",
        "import zipfile\n",
        "import numpy as np\n",
        "import matplotlib.pyplot as plt\n",
        "import seaborn as sns\n",
        "from PIL import Image\n",
        "import io\n",
        "import skimage\n",
        "from skimage.transform import resize\n",
        "from itertools import groupby\n",
        "import cv2\n",
        "from tqdm.auto import tqdm\n",
        "from pathlib import Path\n",
        "from time import time\n",
        "from datetime import datetime \n",
        "import gc\n",
        "sns.set()\n",
        "import os"
      ],
      "execution_count": 3,
      "outputs": [
        {
          "output_type": "stream",
          "text": [
            "/usr/local/lib/python3.6/dist-packages/statsmodels/tools/_testing.py:19: FutureWarning: pandas.util.testing is deprecated. Use the functions in the public API at pandas.testing instead.\n",
            "  import pandas.util.testing as tm\n"
          ],
          "name": "stderr"
        }
      ]
    },
    {
      "cell_type": "markdown",
      "metadata": {
        "id": "g0XhAekydAOa",
        "colab_type": "text"
      },
      "source": [
        "## Statistics of FG_BG Images"
      ]
    },
    {
      "cell_type": "code",
      "metadata": {
        "id": "cTk8S8aWS5Sj",
        "colab_type": "code",
        "colab": {}
      },
      "source": [
        "#!unzip -q \"/content/gdrive/My Drive/EVA4P1_S15/FG_BG/FG_BG.zip\"\n",
        "FG_BG_zip =  ZipFile(\"/content/gdrive/My Drive/EVA4P1_S15/FG_BG_Mask_Depth/FG_BG_400K.zip\", 'r')"
      ],
      "execution_count": 0,
      "outputs": []
    },
    {
      "cell_type": "code",
      "metadata": {
        "id": "zq_1Ly5STLTM",
        "colab_type": "code",
        "colab": {}
      },
      "source": [
        "all_files = [info.filename for info in FG_BG_zip.infolist() if not info.is_dir()]"
      ],
      "execution_count": 0,
      "outputs": []
    },
    {
      "cell_type": "code",
      "metadata": {
        "id": "dRayUku9UNNe",
        "colab_type": "code",
        "outputId": "fc74ae8a-285e-4d73-c9c1-056eedb7bb59",
        "colab": {
          "base_uri": "https://localhost:8080/",
          "height": 35
        }
      },
      "source": [
        "n = 0\n",
        "s = np.zeros(3)\n",
        "sq = np.zeros(3)\n",
        "for img_file in all_files[0:]:\n",
        "    if img_file.endswith('jpg'):\n",
        "        imgdata = FG_BG_zip.read(img_file)\n",
        "        data = Image.open(io.BytesIO(imgdata))\n",
        "        x = np.array(data)/255\n",
        "        s += x.sum(axis=(0,1))\n",
        "        sq += np.sum(np.square(x),axis=(0,1))\n",
        "        n += x.shape[0]*x.shape[1]\n",
        "mu = s/n\n",
        "std =np.sqrt((sq/n - np.square(mu)))\n",
        "print(mu,sq/n,std,n)"
      ],
      "execution_count": 0,
      "outputs": [
        {
          "output_type": "stream",
          "text": [
            "[0.56670278 0.49779153 0.43632878] [0.38389994 0.30871084 0.25551239] [0.25049532 0.2468085  0.25520498] 14745600000\n"
          ],
          "name": "stdout"
        }
      ]
    },
    {
      "cell_type": "markdown",
      "metadata": {
        "id": "yNS_rTEVjh3p",
        "colab_type": "text"
      },
      "source": [
        "## Statistics of FG_BG_Mask Images"
      ]
    },
    {
      "cell_type": "code",
      "metadata": {
        "id": "qfxeORwYjmkv",
        "colab_type": "code",
        "colab": {}
      },
      "source": [
        "FG_BG_Mask_zip =  ZipFile(\"/content/gdrive/My Drive/EVA4P1_S15/FG_BG_Mask_Depth/FG_BG_Mask_400K.zip\", 'r')"
      ],
      "execution_count": 0,
      "outputs": []
    },
    {
      "cell_type": "code",
      "metadata": {
        "id": "QDkEu1rXjuDH",
        "colab_type": "code",
        "colab": {}
      },
      "source": [
        "all_files = [info.filename for info in FG_BG_Mask_zip.infolist() if not info.is_dir()]"
      ],
      "execution_count": 0,
      "outputs": []
    },
    {
      "cell_type": "code",
      "metadata": {
        "id": "48yrERkYkHlr",
        "colab_type": "code",
        "outputId": "2d076223-d684-4b2d-94f5-3ea0e9ac4a05",
        "colab": {
          "base_uri": "https://localhost:8080/",
          "height": 35
        }
      },
      "source": [
        "all_files[0]"
      ],
      "execution_count": 0,
      "outputs": [
        {
          "output_type": "execute_result",
          "data": {
            "text/plain": [
              "'FG_BG_Mask_400K/Img_fg_bg_mask389180.jpg'"
            ]
          },
          "metadata": {
            "tags": []
          },
          "execution_count": 7
        }
      ]
    },
    {
      "cell_type": "code",
      "metadata": {
        "id": "4yyeWV_evY_l",
        "colab_type": "code",
        "outputId": "864d39b0-408b-42d6-a398-36bbc6441edd",
        "colab": {
          "base_uri": "https://localhost:8080/",
          "height": 35
        }
      },
      "source": [
        "n = 0\n",
        "s = np.zeros(1)\n",
        "sq = np.zeros(1)\n",
        "for img_file in all_files[0:]:\n",
        "    if img_file.endswith('jpg'):\n",
        "        imgdata = FG_BG_Mask_zip.read(img_file)\n",
        "        data = Image.open(io.BytesIO(imgdata))\n",
        "        x = np.array(data)/255\n",
        "        s += x.sum(axis=(0,1))\n",
        "        sq += np.sum(np.square(x),axis=(0,1))\n",
        "        n += x.shape[0]*x.shape[1]\n",
        "mu = s/n\n",
        "std =np.sqrt((sq/n - np.square(mu)))\n",
        "print(mu,sq/n,std,n)"
      ],
      "execution_count": 0,
      "outputs": [
        {
          "output_type": "stream",
          "text": [
            "[0.20249742] [0.20069515] [0.39961225] 14745600000\n"
          ],
          "name": "stdout"
        }
      ]
    },
    {
      "cell_type": "markdown",
      "metadata": {
        "id": "M-US1MXVmNIy",
        "colab_type": "text"
      },
      "source": [
        "## Statistics of FG_BG_Depth Images"
      ]
    },
    {
      "cell_type": "code",
      "metadata": {
        "id": "cehqW-aPveWy",
        "colab_type": "code",
        "outputId": "a407eec3-f8f6-4720-ba51-6a0453f97062",
        "colab": {
          "base_uri": "https://localhost:8080/",
          "height": 52
        }
      },
      "source": [
        "FG_BG_Depth_zip =  ZipFile(\"/content/gdrive/My Drive/EVA4P1_S15/FG_BG_Mask_Depth/FG_BG_Depth_400K.zip\", 'r')\n",
        "all_files = [info.filename for info in FG_BG_Depth_zip.infolist() if not info.is_dir()]\n",
        "print(all_files[0])\n",
        "print(len(all_files))"
      ],
      "execution_count": 0,
      "outputs": [
        {
          "output_type": "stream",
          "text": [
            "FG_BG_Depth_0_400K/Img_fg_bg_214327_depth.jpg\n",
            "400000\n"
          ],
          "name": "stdout"
        }
      ]
    },
    {
      "cell_type": "code",
      "metadata": {
        "id": "mxSj-hmKnCC6",
        "colab_type": "code",
        "outputId": "706402d5-e47e-47ac-8144-3d574252fccc",
        "colab": {
          "base_uri": "https://localhost:8080/",
          "height": 35
        }
      },
      "source": [
        "n = 0\n",
        "s = np.zeros(1)\n",
        "sq = np.zeros(1)\n",
        "for img_file in all_files[0:]:\n",
        "    if img_file.endswith('jpg'):\n",
        "        imgdata = FG_BG_Depth_zip.read(img_file)\n",
        "        data = Image.open(io.BytesIO(imgdata))\n",
        "        x = np.array(data)/255\n",
        "        s += x.sum(axis=(0,1))\n",
        "        sq += np.sum(np.square(x),axis=(0,1))\n",
        "        n += x.shape[0]*x.shape[1]\n",
        "mu = s/n\n",
        "std =np.sqrt((sq/n - np.square(mu)))\n",
        "print(mu,sq/n,std,n)"
      ],
      "execution_count": 0,
      "outputs": [
        {
          "output_type": "stream",
          "text": [
            "[0.32939295] [0.17065376] [0.24930712] 16000000000\n"
          ],
          "name": "stdout"
        }
      ]
    },
    {
      "cell_type": "markdown",
      "metadata": {
        "id": "YdQxhNY6VmBI",
        "colab_type": "text"
      },
      "source": [
        "## Statistics of BG and its Flip Images"
      ]
    },
    {
      "cell_type": "code",
      "metadata": {
        "id": "VS2ZpaVRnJ9-",
        "colab_type": "code",
        "colab": {
          "base_uri": "https://localhost:8080/",
          "height": 55
        },
        "outputId": "54b108ae-3a70-41f4-df87-8b5779383843"
      },
      "source": [
        "path = '/content/gdrive/My Drive/EVA4P1_S15/FG_BG_Mask_Depth/BG_and_Its_Flip/'\n",
        "n = 0\n",
        "s = np.zeros(3)\n",
        "sq = np.zeros(3)\n",
        "for img_file in os.listdir('/content/gdrive/My Drive/EVA4P1_S15/FG_BG_Mask_Depth/BG_and_Its_Flip/'):\n",
        "    if img_file.endswith('jpg'):\n",
        "        data = Image.open(f'{path}{img_file}')\n",
        "        x = np.array(data)/255\n",
        "        s += x.sum(axis=(0,1))\n",
        "        sq += np.sum(np.square(x),axis=(0,1))\n",
        "        n += x.shape[0]*x.shape[1]\n",
        "mu = s/n\n",
        "std =np.sqrt((sq/n - np.square(mu)))\n",
        "print(mu,sq/n,std,n)"
      ],
      "execution_count": 10,
      "outputs": [
        {
          "output_type": "stream",
          "text": [
            "[0.58245822 0.51269352 0.43691653] [0.39807445 0.32199507 0.25542021] [0.24252189 0.24318804 0.25401604] 7741440\n"
          ],
          "name": "stdout"
        }
      ]
    },
    {
      "cell_type": "code",
      "metadata": {
        "id": "qw7TQ-MmWGz5",
        "colab_type": "code",
        "colab": {}
      },
      "source": [
        ""
      ],
      "execution_count": 0,
      "outputs": []
    }
  ]
}