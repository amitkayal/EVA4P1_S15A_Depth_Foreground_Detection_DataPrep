{
  "nbformat": 4,
  "nbformat_minor": 0,
  "metadata": {
    "colab": {
      "name": "S15A_Image_Prep.ipynb",
      "provenance": [],
      "collapsed_sections": [],
      "mount_file_id": "1kxyIvxSno7FSu5nyNms0Nk4J6KrbuiRJ",
      "authorship_tag": "ABX9TyNjuPJBGFB+6Vw4+EjI4hhe",
      "include_colab_link": true
    },
    "kernelspec": {
      "name": "python3",
      "display_name": "Python 3"
    },
    "accelerator": "GPU"
  },
  "cells": [
    {
      "cell_type": "markdown",
      "metadata": {
        "id": "view-in-github",
        "colab_type": "text"
      },
      "source": [
        "<a href=\"https://colab.research.google.com/github/anilbhatt1/EVA4P1_S15_MaskRCNN/blob/master/S15A_Image_Prep.ipynb\" target=\"_parent\"><img src=\"https://colab.research.google.com/assets/colab-badge.svg\" alt=\"Open In Colab\"/></a>"
      ]
    },
    {
      "cell_type": "code",
      "metadata": {
        "id": "SOWc4fYc-ek7",
        "colab_type": "code",
        "outputId": "011e9637-ffbd-47d1-f5d2-d4015e1a56d8",
        "colab": {
          "base_uri": "https://localhost:8080/",
          "height": 121
        }
      },
      "source": [
        "!git clone https://github.com/anilbhatt1/EVA4P1_S15_MaskRCNN.git"
      ],
      "execution_count": 1,
      "outputs": [
        {
          "output_type": "stream",
          "text": [
            "Cloning into 'EVA4P1_S15_MaskRCNN'...\n",
            "remote: Enumerating objects: 207, done.\u001b[K\n",
            "remote: Counting objects: 100% (207/207), done.\u001b[K\n",
            "remote: Compressing objects: 100% (205/205), done.\u001b[K\n",
            "remote: Total 207 (delta 0), reused 204 (delta 0), pack-reused 0\u001b[K\n",
            "Receiving objects: 100% (207/207), 11.93 MiB | 15.05 MiB/s, done.\n"
          ],
          "name": "stdout"
        }
      ]
    },
    {
      "cell_type": "code",
      "metadata": {
        "id": "p_Lt8QZxnd5S",
        "colab_type": "code",
        "colab": {
          "base_uri": "https://localhost:8080/",
          "height": 35
        },
        "outputId": "f55770a2-aba3-4b1b-9ca4-9df088c9ce98"
      },
      "source": [
        "from datetime import datetime \n",
        "print(\"Current Date/Time: \", datetime.now())"
      ],
      "execution_count": 2,
      "outputs": [
        {
          "output_type": "stream",
          "text": [
            "Current Date/Time:  2020-05-02 18:21:21.594409\n"
          ],
          "name": "stdout"
        }
      ]
    },
    {
      "cell_type": "code",
      "metadata": {
        "id": "qOH3fis0U3UY",
        "colab_type": "code",
        "colab": {}
      },
      "source": [
        "import os\n",
        "import PIL\n",
        "from PIL import Image, ImageOps\n",
        "from random import seed\n",
        "from random import randint"
      ],
      "execution_count": 0,
      "outputs": []
    },
    {
      "cell_type": "code",
      "metadata": {
        "id": "pGyYRg60qMei",
        "colab_type": "code",
        "colab": {
          "base_uri": "https://localhost:8080/",
          "height": 35
        },
        "outputId": "3df8e5f8-f9ba-4936-bcea-0e3fe6f42af9"
      },
      "source": [
        "from google.colab import drive \n",
        "drive.mount('/content/gdrive')"
      ],
      "execution_count": 43,
      "outputs": [
        {
          "output_type": "stream",
          "text": [
            "Mounted at /content/gdrive\n"
          ],
          "name": "stdout"
        }
      ]
    },
    {
      "cell_type": "code",
      "metadata": {
        "id": "etOtfr-rTulf",
        "colab_type": "code",
        "colab": {
          "base_uri": "https://localhost:8080/",
          "height": 35
        },
        "outputId": "6fd02cc5-3f3b-4344-b157-78c863bffd6b"
      },
      "source": [
        "path_bg    = '/content/EVA4P1_S15_MaskRCNN/BG_Images/'\n",
        "path_fg    = '/content/EVA4P1_S15_MaskRCNN/FG_Images/'\n",
        "path_fg_bg = '/content/EVA4P1_S15_MaskRCNN/FG_BG4/'\n",
        "num1       = 0\n",
        "num2       = 100\n",
        "positions  = 20\n",
        "i          = 0\n",
        "\n",
        "k = 0\n",
        "for bg_img in os.listdir(path_bg):\n",
        "    if bg_img.endswith('png') and k < 1:\n",
        "       for fg_img in os.listdir(path_fg):\n",
        "           if fg_img.endswith('png'):\n",
        "              foreground = Image.open(f'{path_fg}{fg_img}') \n",
        "              pos1_list  = pos_generator(num1,num2, positions)\n",
        "              pos2_list  = pos_generator(num1+10,num2+10, positions)\n",
        "              for tup in range(len(pos1_list)):\n",
        "                  i += 1\n",
        "                  x,y = pos1_list[tup]\n",
        "                  background = Image.open(f'{path_bg}{bg_img}')                            \n",
        "                  background.paste(foreground, (x, y), foreground)\n",
        "                  fg_bg_img_name  = 'Img_fg_bg' + str(i) + '.png'\n",
        "                  background.save(f'{path_fg_bg}{fg_bg_img_name}')\n",
        "                  i += 1\n",
        "                  x,y = pos2_list[tup]\n",
        "                  background_flip  = Image.open(f'{path_bg}{bg_img}')  \n",
        "                  background_flip  = ImageOps.mirror(background_flip)\n",
        "                  background_flip.paste(foreground, (x, y), foreground)                  \n",
        "                  fg_bg_img_name = 'Img_fg_bg' + str(i) + '.png'\n",
        "                  background_flip.save(f'{path_fg_bg}{fg_bg_img_name}')     \n",
        "    k += 1              \n",
        "print('bg_img:',bg_img,'Total Images saved:',i)"
      ],
      "execution_count": 103,
      "outputs": [
        {
          "output_type": "stream",
          "text": [
            "bg_img: Img11.png Total Images saved: 4000\n"
          ],
          "name": "stdout"
        }
      ]
    },
    {
      "cell_type": "code",
      "metadata": {
        "id": "4gnJzXpxn8lJ",
        "colab_type": "code",
        "colab": {}
      },
      "source": [
        "def pos_generator(num1,num2,positions):\n",
        "    lst = []\n",
        "    for i in range(positions):\n",
        "        x = randint(num1,num2)\n",
        "        y = randint(num1,num2)\n",
        "        tup = (x,y) \n",
        "        lst.append(tup)\n",
        "    return lst    "
      ],
      "execution_count": 0,
      "outputs": []
    },
    {
      "cell_type": "code",
      "metadata": {
        "id": "Mb1XTyixgSmz",
        "colab_type": "code",
        "colab": {}
      },
      "source": [
        "'''\n",
        "i = 2\n",
        "path_save = '/content/gdrive/My Drive/'\n",
        "im1 = Image.open(\"/content/EVA4P1_S15_MaskRCNN/BG_Images/Img1.png\") \n",
        "im2 = Image.open(\"/content/EVA4P1_S15_MaskRCNN/FG_Images/Image1.png\")\n",
        "im1.paste(im2, (10, 10), im2)\n",
        "img_name = 'Img_fg_bg' + str(i) + '.png'\n",
        "im1.save(f'{path_save}{img_name}') "
      ],
      "execution_count": 0,
      "outputs": []
    }
  ]
}